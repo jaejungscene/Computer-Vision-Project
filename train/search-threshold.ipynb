{
 "cells": [
  {
   "cell_type": "code",
   "execution_count": null,
   "metadata": {},
   "outputs": [],
   "source": [
    "##############\n",
    "# TP | TN\n",
    "# FP | FN\n",
    "##############\n",
    "# FAR = False Acceptance Rate = Fall-out = FP/(TN+FP)\n",
    "# TAR = True Acceptance Rate = TP/(TP+FN)\n",
    "# TAR @ FAR=0.1%  <-- FAR을 0.1%로 고정한 상태에서의 TAR\n",
    "# FAR이 높다는 것은 다른 사람을 통과시켜준다는 이야기 이므로\n",
    "# 보안 상 FAR을 적어도 0.1%로 유지시킨 채 적절한 threshold를 구한다."
   ]
  },
  {
   "cell_type": "markdown",
   "metadata": {},
   "source": [
    "# LFW"
   ]
  },
  {
   "cell_type": "code",
   "execution_count": 1,
   "metadata": {},
   "outputs": [
    {
     "name": "stdout",
     "output_type": "stream",
     "text": [
      "['/home/ljj0512/private/workspace/CV-project/Computer-Vision-Project/train/data/lfw/AJ_Cook', '/home/ljj0512/private/workspace/CV-project/Computer-Vision-Project/train/data/lfw/AJ_Lamas', '/home/ljj0512/private/workspace/CV-project/Computer-Vision-Project/train/data/lfw/Aaron_Eckhart', '/home/ljj0512/private/workspace/CV-project/Computer-Vision-Project/train/data/lfw/Aaron_Guiel', '/home/ljj0512/private/workspace/CV-project/Computer-Vision-Project/train/data/lfw/Aaron_Patterson']\n",
      "\n",
      "['/home/ljj0512/private/workspace/CV-project/Computer-Vision-Project/train/data/lfw/Emily_Mortimer', '/home/ljj0512/private/workspace/CV-project/Computer-Vision-Project/train/data/lfw/Paul_Wellstone', '/home/ljj0512/private/workspace/CV-project/Computer-Vision-Project/train/data/lfw/Tom_Gamboa', '/home/ljj0512/private/workspace/CV-project/Computer-Vision-Project/train/data/lfw/Roberto_Tovar', '/home/ljj0512/private/workspace/CV-project/Computer-Vision-Project/train/data/lfw/Jan_De_Bont']\n",
      "\n",
      "the total number of IDs:  5749\n",
      "the number of images:  13233\n",
      "--------------------------------------------------\n",
      "the number of IDs with more than one image:  1680\n",
      "the number of imagess with more than one image:  9164\n"
     ]
    }
   ],
   "source": [
    "import glob\n",
    "import os\n",
    "DATA_DIR = \"/home/ljj0512/private/workspace/CV-project/Computer-Vision-Project/train/data\"\n",
    "\n",
    "file_list = glob.glob(os.path.join(DATA_DIR,\"lfw\",\"*\"))\n",
    "sorted_list = sorted(file_list, key=lambda x: x.split(\"/\")[-1])\n",
    "print(sorted_list[0:5])\n",
    "print()\n",
    "print(file_list[0:5])\n",
    "print()\n",
    "print(\"the total number of IDs: \",len(file_list))\n",
    "\n",
    "total_img = 0\n",
    "more_than_two_img = 0\n",
    "total_more_than_two_img = 0\n",
    "for file in file_list:\n",
    "    L = glob.glob(os.path.join(file, \"*\"))\n",
    "    if len(L) > 1:\n",
    "        # print(\"a\")\n",
    "        total_img += len(L)\n",
    "        total_more_than_two_img += len(L)\n",
    "        more_than_two_img += 1\n",
    "        # print(len(L))\n",
    "        # print(L)\n",
    "    else:\n",
    "        total_img += 1\n",
    "\n",
    "print(\"the number of images: \",total_img)\n",
    "print(\"-\"*50)\n",
    "print(\"the number of IDs with more than one image: \",more_than_two_img)\n",
    "print(\"the number of imagess with more than one image: \",total_more_than_two_img)"
   ]
  }
 ],
 "metadata": {
  "kernelspec": {
   "display_name": "Python 3.8.13 ('torch')",
   "language": "python",
   "name": "python3"
  },
  "language_info": {
   "codemirror_mode": {
    "name": "ipython",
    "version": 3
   },
   "file_extension": ".py",
   "mimetype": "text/x-python",
   "name": "python",
   "nbconvert_exporter": "python",
   "pygments_lexer": "ipython3",
   "version": "3.8.13"
  },
  "orig_nbformat": 4,
  "vscode": {
   "interpreter": {
    "hash": "65fe116ec29312474b580f4ecbad52a94f46ea3a142b15e85ff8e68848a207e7"
   }
  }
 },
 "nbformat": 4,
 "nbformat_minor": 2
}
